{
 "cells": [
  {
   "cell_type": "markdown",
   "metadata": {},
   "source": [
    "### DLP Lab1\n",
    "#### Requirment\n",
    "* Implement a simple neuron nerwork with forward pass and backpropagation\n",
    "* Use sigmoid as activation function\n",
    "* Test on two dataset\n",
    "    * Linear\n",
    "    * XOR\n",
    "* Do not use any deep learning libraries such as Pytorch, Tensorflow\n",
    "* Last modification: 2020/04/07"
   ]
  },
  {
   "cell_type": "code",
   "execution_count": 252,
   "metadata": {
    "ExecuteTime": {
     "end_time": "2020-04-06T09:51:25.614837Z",
     "start_time": "2020-04-06T09:51:25.609428Z"
    }
   },
   "outputs": [],
   "source": [
    "import numpy as np\n",
    "import matplotlib.pyplot as plt\n",
    "\n",
    "def sigmoid(x):\n",
    "    return 1.0/(1.0 + np.exp(-x))\n",
    "\n",
    "def derivate_sigmoid(x):\n",
    "    return np.multiply(x, 1.0-x)"
   ]
  },
  {
   "cell_type": "markdown",
   "metadata": {},
   "source": [
    "### Fetch data"
   ]
  },
  {
   "cell_type": "code",
   "execution_count": 253,
   "metadata": {
    "ExecuteTime": {
     "end_time": "2020-04-06T09:51:25.623038Z",
     "start_time": "2020-04-06T09:51:25.615914Z"
    }
   },
   "outputs": [],
   "source": [
    "class GenData:\n",
    "    @staticmethod\n",
    "    def _gen_linear(n=100):\n",
    "        \"\"\" Data generation (Linear)\n",
    "\n",
    "        Args:\n",
    "            n (int):    the number of data points generated in total.\n",
    "\n",
    "        Returns:\n",
    "            data (np.ndarray, np.float):    the generated data with shape (n, 2). Each row represents\n",
    "                a data point in 2d space.\n",
    "            labels (np.ndarray, np.int):    the labels that correspond to the data with shape (n, 1).\n",
    "                Each row represents a corresponding label (0 or 1).\n",
    "        \"\"\"\n",
    "        data = np.random.uniform(0, 1, (n, 2))\n",
    "\n",
    "        inputs = []\n",
    "        labels = []\n",
    "\n",
    "        for point in data:\n",
    "            inputs.append([point[0], point[1]])\n",
    "\n",
    "            if point[0] > point[1]:\n",
    "                labels.append(0)\n",
    "            else:\n",
    "                labels.append(1)\n",
    "\n",
    "        return np.array(inputs), np.array(labels).reshape((-1, 1))\n",
    "\n",
    "    @staticmethod\n",
    "    def _gen_xor(n=100):\n",
    "        \"\"\" Data generation (XOR)\n",
    "\n",
    "        Args:\n",
    "            n (int):    the number of data points generated in total.\n",
    "\n",
    "        Returns:\n",
    "            data (np.ndarray, np.float):    the generated data with shape (n, 2). Each row represents\n",
    "                a data point in 2d space.\n",
    "            labels (np.ndarray, np.int):    the labels that correspond to the data with shape (n, 1).\n",
    "                Each row represents a corresponding label (0 or 1).\n",
    "        \"\"\"\n",
    "        data_x = np.linspace(0, 1, n // 2)\n",
    "\n",
    "        inputs = []\n",
    "        labels = []\n",
    "\n",
    "        for x in data_x:\n",
    "            inputs.append([x, x])\n",
    "            labels.append(0)\n",
    "\n",
    "            if x == 1 - x:\n",
    "                continue\n",
    "\n",
    "            inputs.append([x, 1 - x])\n",
    "            labels.append(1)\n",
    "\n",
    "        return np.array(inputs), np.array(labels).reshape((-1, 1))\n",
    "\n",
    "    @staticmethod\n",
    "    def fetch_data(mode, n):\n",
    "        \"\"\" Data gather interface\n",
    "\n",
    "        Args:\n",
    "            mode (str): 'Linear' or 'XOR', indicate which generator is used.\n",
    "            n (int):    the number of data points generated in total.\n",
    "        \"\"\"\n",
    "        assert mode == 'Linear' or mode == 'XOR'\n",
    "\n",
    "        data_gen_func = {\n",
    "            'Linear': GenData._gen_linear,\n",
    "            'XOR': GenData._gen_xor\n",
    "        }[mode]\n",
    "\n",
    "        return data_gen_func(n)"
   ]
  },
  {
   "cell_type": "markdown",
   "metadata": {},
   "source": [
    "### Hidden layer"
   ]
  },
  {
   "cell_type": "code",
   "execution_count": 254,
   "metadata": {
    "ExecuteTime": {
     "end_time": "2020-04-06T09:51:25.628321Z",
     "start_time": "2020-04-06T09:51:25.624137Z"
    }
   },
   "outputs": [],
   "source": [
    "class HiddenLayer:\n",
    "    def __init__(self, input_size, hidden_size):\n",
    "        self.W = np.random.uniform(-1, 1, [input_size, hidden_size])\n",
    "        self.b = np.zeros(hidden_size)\n",
    "        self.x = None\n",
    "        self.dW = None\n",
    "        self.db = None\n",
    "            \n",
    "    def forward(self, x):\n",
    "        self.x = x\n",
    "        out = np.dot(x, self.W) + self.b\n",
    "        self.out = sigmoid(out)\n",
    "        return self.out\n",
    "    \n",
    "    def backward(self, dout):\n",
    "        dout = dout * derivate_sigmoid(self.out)\n",
    "        dx = np.dot(dout, self.W.T)\n",
    "        self.dW = np.dot(self.x.T, dout)\n",
    "        self.db = np.sum(dout, axis = 0)\n",
    "        return dx"
   ]
  },
  {
   "cell_type": "markdown",
   "metadata": {},
   "source": [
    "### Network model"
   ]
  },
  {
   "cell_type": "code",
   "execution_count": 275,
   "metadata": {
    "ExecuteTime": {
     "end_time": "2020-04-06T14:26:33.766106Z",
     "start_time": "2020-04-06T14:26:33.712347Z"
    }
   },
   "outputs": [],
   "source": [
    "class NeuralNetwork():\n",
    "    def __init__(self, input_size, hidden_size, num_step=2000, learning_rate=0.5, print_interval=100):\n",
    "        self.num_step = num_step\n",
    "        self.learning_rate = learning_rate\n",
    "        self.print_interval = print_interval\n",
    "        \n",
    "        # initiate layers\n",
    "        self.layers = []\n",
    "        self.layers.append(HiddenLayer(input_size, hidden_size))\n",
    "        self.layers.append(HiddenLayer(hidden_size, hidden_size))\n",
    "        self.lastLayer = HiddenLayer(hidden_size, 1)\n",
    "        \n",
    "    def forward(self, x):\n",
    "        for layer in self.layers:\n",
    "            x = layer.forward(x)\n",
    "        return self.lastLayer.forward(x)\n",
    "        \n",
    "    def backward(self):\n",
    "        # calculate gradients\n",
    "        dout = self.lastLayer.backward(self.error)\n",
    "        layers = list(self.layers)\n",
    "        layers.reverse()\n",
    "        for layer in layers:\n",
    "            dout = layer.backward(dout)\n",
    "                \n",
    "        # update weights\n",
    "        self.lastLayer.W -= self.learning_rate * self.lastLayer.dW\n",
    "        self.lastLayer.b -= self.learning_rate * self.lastLayer.db\n",
    "        for layer in self.layers:\n",
    "            layer.W -= self.learning_rate * layer.dW\n",
    "            layer.b -= self.learning_rate * layer.db\n",
    "        \n",
    "    def training(self, inputs, labels):\n",
    "        loss_list = []\n",
    "        acc_list = []\n",
    "        for epochs in range(self.num_step):\n",
    "            for idx in range(inputs.shape[0]):\n",
    "                self.output = self.forward(inputs[idx:idx+1, :])\n",
    "                self.error = self.output - labels[idx]\n",
    "                self.backward()\n",
    "            \n",
    "            if epochs % self.print_interval == 0:\n",
    "                loss = self.loss(inputs, labels)\n",
    "                acc = self.accuracy(inputs, labels)\n",
    "                loss_list.append(loss)\n",
    "                acc_list.append(acc)\n",
    "                print (\"Epochs: %4s, loss: %.10f, acc: %.10f\"%\n",
    "                       (epochs, loss, acc))\n",
    "                \n",
    "        return loss_list, acc_list\n",
    "\n",
    "    # calculate the loss\n",
    "    def loss(self, inputs, labels):\n",
    "        return np.sum(np.square(self.predict(inputs)-labels)) / labels.shape[0]\n",
    "    \n",
    "    # reutrn the predict value\n",
    "    def predict(self, inputs):\n",
    "        output = []\n",
    "        for idx in range(inputs.shape[0]):\n",
    "            output.append(self.forward(inputs[idx:idx+1, :]))\n",
    "        output = np.array(output).reshape(inputs.shape[0], 1)\n",
    "        return output\n",
    "        \n",
    "    # return the predict label\n",
    "    def get_output(self, inputs):\n",
    "        return  np.around(self.predict(inputs))\n",
    "    \n",
    "    # calculate accuracy\n",
    "    def accuracy(self, inputs, labels):\n",
    "        return np.sum(self.get_output(inputs) == label) / float(inputs.shape[0])\n",
    "         \n",
    "    @staticmethod\n",
    "    def show_result(x, y, pred_y):\n",
    "        assert x.shape[0] == y.shape[0]\n",
    "        assert x.shape[0] == pred_y.shape[0]\n",
    "\n",
    "        plt.figure()\n",
    "\n",
    "        plt.subplot(1, 2, 1)\n",
    "        plt.title('Ground truth', fontsize=18)\n",
    "        for i in range(x.shape[0]):\n",
    "            if y[i] == 0:\n",
    "                plt.plot(x[i][0], x[i][1], 'ro')\n",
    "            else:\n",
    "                plt.plot(x[i][0], x[i][1], 'bo')\n",
    "\n",
    "        plt.subplot(1, 2, 2)\n",
    "        plt.title('Predict result', fontsize=18)\n",
    "        for i in range(x.shape[0]):\n",
    "            if pred_y[i] == 0:\n",
    "                plt.plot(x[i][0], x[i][1], 'ro')\n",
    "            else:\n",
    "                plt.plot(x[i][0], x[i][1], 'bo')\n",
    "\n",
    "        plt.show()\n",
    "        \n",
    "    @staticmethod\n",
    "    def show_loss_acc(loss, acc):\n",
    "        plt.figure()\n",
    "        \n",
    "        plt.subplot(1, 2, 1)\n",
    "        plt.title('Loss', fontsize=18)\n",
    "        plt.plot(loss)\n",
    "        plt.subplot(1, 2, 2)\n",
    "        plt.title('Accuracy', fontsize=18)\n",
    "        plt.plot(acc)\n",
    "        plt.show()"
   ]
  },
  {
   "cell_type": "markdown",
   "metadata": {},
   "source": [
    "### Linear data"
   ]
  },
  {
   "cell_type": "code",
   "execution_count": 278,
   "metadata": {
    "ExecuteTime": {
     "end_time": "2020-04-06T14:30:14.308386Z",
     "start_time": "2020-04-06T14:30:02.534435Z"
    }
   },
   "outputs": [
    {
     "name": "stdout",
     "output_type": "stream",
     "text": [
      "Epochs:    0, loss: 0.2592759866, acc: 0.5285714286\n",
      "Epochs:  100, loss: 0.0261918253, acc: 0.9571428571\n",
      "Epochs:  200, loss: 0.0190916300, acc: 0.9571428571\n",
      "Epochs:  300, loss: 0.0115127412, acc: 0.9857142857\n",
      "Epochs:  400, loss: 0.0075776451, acc: 0.9857142857\n",
      "Epochs:  500, loss: 0.0056884206, acc: 1.0000000000\n",
      "Epochs:  600, loss: 0.0045796682, acc: 1.0000000000\n",
      "Epochs:  700, loss: 0.0037978795, acc: 1.0000000000\n",
      "Epochs:  800, loss: 0.0031254848, acc: 1.0000000000\n",
      "Epochs:  900, loss: 0.0024625331, acc: 1.0000000000\n",
      "Epochs: 1000, loss: 0.0018422807, acc: 1.0000000000\n",
      "Epochs: 1100, loss: 0.0013722480, acc: 1.0000000000\n",
      "Epochs: 1200, loss: 0.0010653891, acc: 1.0000000000\n",
      "Epochs: 1300, loss: 0.0008664352, acc: 1.0000000000\n",
      "Epochs: 1400, loss: 0.0007306822, acc: 1.0000000000\n",
      "Epochs: 1500, loss: 0.0006328418, acc: 1.0000000000\n",
      "Epochs: 1600, loss: 0.0005590190, acc: 1.0000000000\n",
      "Epochs: 1700, loss: 0.0005012439, acc: 1.0000000000\n",
      "Epochs: 1800, loss: 0.0004546938, acc: 1.0000000000\n",
      "Epochs: 1900, loss: 0.0004163021, acc: 1.0000000000\n"
     ]
    },
    {
     "data": {
      "image/png": "[encoded data removed]",
      "text/plain": [
       "<Figure size 432x288 with 2 Axes>"
      ]
     },
     "metadata": {
      "needs_background": "light"
     },
     "output_type": "display_data"
    },
    {
     "data": {
      "image/png": "[encoded data removed]",
      "text/plain": [
       "<Figure size 432x288 with 2 Axes>"
      ]
     },
     "metadata": {
      "needs_background": "light"
     },
     "output_type": "display_data"
    }
   ],
   "source": [
    "data, label = GenData.fetch_data('Linear', 70)\n",
    "\n",
    "net = NeuralNetwork(input_size=data.shape[1], hidden_size=100, num_step=2000, learning_rate=0.1, print_interval=100)\n",
    "loss, acc = net.training(data, label)\n",
    "\n",
    "pred_y = net.get_output(data)\n",
    "NeuralNetwork.show_result(data, label, pred_y)\n",
    "NeuralNetwork.show_loss_acc(loss, acc)"
   ]
  },
  {
   "cell_type": "code",
   "execution_count": 279,
   "metadata": {
    "ExecuteTime": {
     "end_time": "2020-04-06T14:30:14.315259Z",
     "start_time": "2020-04-06T14:30:14.309603Z"
    }
   },
   "outputs": [
    {
     "name": "stdout",
     "output_type": "stream",
     "text": [
      "[[9.99946751e-01]\n",
      " [3.24780850e-02]\n",
      " [9.99938490e-01]\n",
      " [9.26230354e-01]\n",
      " [9.05193177e-13]\n",
      " [1.00000000e+00]\n",
      " [9.99999996e-01]\n",
      " [3.20899842e-06]\n",
      " [8.84172413e-01]\n",
      " [8.31329897e-10]\n",
      " [1.00000000e+00]\n",
      " [1.00000000e+00]\n",
      " [4.02595046e-10]\n",
      " [9.99999976e-01]\n",
      " [5.31996482e-04]\n",
      " [1.00000000e+00]\n",
      " [9.99999984e-01]\n",
      " [3.58272385e-11]\n",
      " [9.99999237e-01]\n",
      " [1.69881843e-13]\n",
      " [9.99999873e-01]\n",
      " [2.30257701e-04]\n",
      " [9.99461689e-01]\n",
      " [1.00000000e+00]\n",
      " [9.99990017e-01]\n",
      " [1.00000000e+00]\n",
      " [1.00000000e+00]\n",
      " [3.51432313e-14]\n",
      " [1.00000000e+00]\n",
      " [1.92136121e-03]\n",
      " [2.38219093e-03]\n",
      " [1.00000000e+00]\n",
      " [1.00000000e+00]\n",
      " [7.17156802e-08]\n",
      " [1.00000000e+00]\n",
      " [1.00000000e+00]\n",
      " [1.37303860e-13]\n",
      " [1.45107033e-13]\n",
      " [7.36290112e-08]\n",
      " [2.39566251e-03]\n",
      " [5.72389126e-11]\n",
      " [1.00000000e+00]\n",
      " [9.99872167e-01]\n",
      " [1.00000000e+00]\n",
      " [1.00000000e+00]\n",
      " [1.78701398e-10]\n",
      " [9.99999995e-01]\n",
      " [1.03187757e-04]\n",
      " [3.43448170e-05]\n",
      " [9.97743663e-01]\n",
      " [4.23700098e-03]\n",
      " [1.57769414e-10]\n",
      " [3.72843781e-09]\n",
      " [1.00000000e+00]\n",
      " [3.30336798e-06]\n",
      " [3.01793017e-03]\n",
      " [2.19313530e-06]\n",
      " [2.87938338e-03]\n",
      " [1.00000000e+00]\n",
      " [3.21742986e-06]\n",
      " [9.14771129e-13]\n",
      " [9.99336342e-01]\n",
      " [1.00000000e+00]\n",
      " [1.00000000e+00]\n",
      " [7.05698154e-03]\n",
      " [7.27889330e-12]\n",
      " [9.72055404e-01]\n",
      " [9.99997882e-01]\n",
      " [9.99999996e-01]\n",
      " [7.81211587e-02]]\n"
     ]
    }
   ],
   "source": [
    "print(net.predict(data))"
   ]
  },
  {
   "cell_type": "markdown",
   "metadata": {},
   "source": [
    "### XOR data"
   ]
  },
  {
   "cell_type": "code",
   "execution_count": 280,
   "metadata": {
    "ExecuteTime": {
     "end_time": "2020-04-06T14:30:30.637254Z",
     "start_time": "2020-04-06T14:30:19.463042Z"
    }
   },
   "outputs": [
    {
     "name": "stdout",
     "output_type": "stream",
     "text": [
      "Epochs:    0, loss: 0.4643875291, acc: 0.4927536232\n",
      "Epochs:  100, loss: 0.0805500120, acc: 0.8985507246\n",
      "Epochs:  200, loss: 0.0462950210, acc: 0.9420289855\n",
      "Epochs:  300, loss: 0.0332038706, acc: 0.9565217391\n",
      "Epochs:  400, loss: 0.0260660157, acc: 0.9710144928\n",
      "Epochs:  500, loss: 0.0212890340, acc: 0.9710144928\n",
      "Epochs:  600, loss: 0.0180416048, acc: 0.9710144928\n",
      "Epochs:  700, loss: 0.0158376465, acc: 0.9710144928\n",
      "Epochs:  800, loss: 0.0141458011, acc: 0.9710144928\n",
      "Epochs:  900, loss: 0.0126736908, acc: 0.9855072464\n",
      "Epochs: 1000, loss: 0.0112977517, acc: 0.9855072464\n",
      "Epochs: 1100, loss: 0.0099845754, acc: 1.0000000000\n",
      "Epochs: 1200, loss: 0.0087443973, acc: 1.0000000000\n",
      "Epochs: 1300, loss: 0.0075871763, acc: 1.0000000000\n",
      "Epochs: 1400, loss: 0.0065031652, acc: 1.0000000000\n",
      "Epochs: 1500, loss: 0.0054678558, acc: 1.0000000000\n",
      "Epochs: 1600, loss: 0.0044812972, acc: 1.0000000000\n",
      "Epochs: 1700, loss: 0.0036074233, acc: 1.0000000000\n",
      "Epochs: 1800, loss: 0.0029104067, acc: 1.0000000000\n",
      "Epochs: 1900, loss: 0.0023877503, acc: 1.0000000000\n"
     ]
    },
    {
     "data": {
      "image/png": "[encoded data removed]",
      "text/plain": [
       "<Figure size 432x288 with 2 Axes>"
      ]
     },
     "metadata": {
      "needs_background": "light"
     },
     "output_type": "display_data"
    },
    {
     "data": {
      "image/png": "[encoded data removed]",
      "text/plain": [
       "<Figure size 432x288 with 2 Axes>"
      ]
     },
     "metadata": {
      "needs_background": "light"
     },
     "output_type": "display_data"
    }
   ],
   "source": [
    "data, label = GenData.fetch_data('XOR', 70)\n",
    "\n",
    "net = NeuralNetwork(input_size=data.shape[1], hidden_size=100, num_step=2000, learning_rate=0.1, print_interval=100)\n",
    "loss, acc = net.training(data, label)\n",
    "\n",
    "pred_y = net.get_output(data)\n",
    "NeuralNetwork.show_result(data, label, pred_y)\n",
    "NeuralNetwork.show_loss_acc(loss, acc)"
   ]
  },
  {
   "cell_type": "code",
   "execution_count": 281,
   "metadata": {
    "ExecuteTime": {
     "end_time": "2020-04-06T14:30:30.643242Z",
     "start_time": "2020-04-06T14:30:30.638472Z"
    }
   },
   "outputs": [
    {
     "name": "stdout",
     "output_type": "stream",
     "text": [
      "[[0.00173169]\n",
      " [0.99999171]\n",
      " [0.00194495]\n",
      " [0.99999156]\n",
      " [0.00220376]\n",
      " [0.99999126]\n",
      " [0.00251775]\n",
      " [0.99999079]\n",
      " [0.00289854]\n",
      " [0.9999901 ]\n",
      " [0.00336081]\n",
      " [0.99998914]\n",
      " [0.00392529]\n",
      " [0.99998784]\n",
      " [0.00462648]\n",
      " [0.99998607]\n",
      " [0.00553159]\n",
      " [0.99998366]\n",
      " [0.00678543]\n",
      " [0.9999803 ]\n",
      " [0.00871649]\n",
      " [0.99997534]\n",
      " [0.01209148]\n",
      " [0.99996719]\n",
      " [0.01871123]\n",
      " [0.99995119]\n",
      " [0.03251398]\n",
      " [0.99990906]\n",
      " [0.05981468]\n",
      " [0.99972608]\n",
      " [0.10265113]\n",
      " [0.99759526]\n",
      " [0.1452053 ]\n",
      " [0.83260731]\n",
      " [0.15980236]\n",
      " [0.13557151]\n",
      " [0.8677843 ]\n",
      " [0.09017711]\n",
      " [0.99683043]\n",
      " [0.05043532]\n",
      " [0.99950914]\n",
      " [0.02681781]\n",
      " [0.99984714]\n",
      " [0.01511277]\n",
      " [0.99993672]\n",
      " [0.00944757]\n",
      " [0.99996819]\n",
      " [0.0065183 ]\n",
      " [0.99998146]\n",
      " [0.00484707]\n",
      " [0.99998794]\n",
      " [0.00379676]\n",
      " [0.99999151]\n",
      " [0.0030817 ]\n",
      " [0.99999364]\n",
      " [0.00256455]\n",
      " [0.99999502]\n",
      " [0.00217372]\n",
      " [0.99999594]\n",
      " [0.00186873]\n",
      " [0.99999659]\n",
      " [0.00162495]\n",
      " [0.99999705]\n",
      " [0.00142648]\n",
      " [0.99999739]\n",
      " [0.00126254]\n",
      " [0.99999765]\n",
      " [0.00112555]\n",
      " [0.99999784]]\n"
     ]
    }
   ],
   "source": [
    "print(net.predict(data))"
   ]
  },
  {
   "cell_type": "code",
   "execution_count": null,
   "metadata": {},
   "outputs": [],
   "source": []
  }
 ],
 "metadata": {
  "kernelspec": {
   "display_name": "Python 3",
   "language": "python",
   "name": "python3"
  },
  "language_info": {
   "codemirror_mode": {
    "name": "ipython",
    "version": 3
   },
   "file_extension": ".py",
   "mimetype": "text/x-python",
   "name": "python",
   "nbconvert_exporter": "python",
   "pygments_lexer": "ipython3",
   "version": "3.6.9"
  }
 },
 "nbformat": 4,
 "nbformat_minor": 2
}
